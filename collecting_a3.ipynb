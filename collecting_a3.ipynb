{
 "cells": [
  {
   "cell_type": "code",
   "execution_count": 1,
   "id": "f7a2cf0e",
   "metadata": {},
   "outputs": [],
   "source": [
    "import pandas as pd\n",
    "import requests\n",
    "from bs4 import BeautifulSoup"
   ]
  },
  {
   "cell_type": "code",
   "execution_count": 2,
   "id": "58261a27",
   "metadata": {},
   "outputs": [],
   "source": [
    "response = requests.get(\"https://www.azlyrics.com/lyrics/danielcaesar/streetcar.html\")\n",
    "html_string = response.text"
   ]
  },
  {
   "cell_type": "code",
   "execution_count": 3,
   "id": "2b560510",
   "metadata": {},
   "outputs": [],
   "source": [
    "doc1 = BeautifulSoup(html_string, \"html.parser\")"
   ]
  },
  {
   "cell_type": "code",
   "execution_count": 4,
   "id": "8a417639",
   "metadata": {},
   "outputs": [
    {
     "data": {
      "text/plain": [
       "'\"Streetcar\" lyrics'"
      ]
     },
     "execution_count": 4,
     "metadata": {},
     "output_type": "execute_result"
    }
   ],
   "source": [
    "doc1.find(\"h1\").text"
   ]
  },
  {
   "cell_type": "code",
   "execution_count": 5,
   "id": "c2c1a5f3",
   "metadata": {},
   "outputs": [
    {
     "data": {
      "text/plain": [
       "'Streetcar'"
      ]
     },
     "execution_count": 5,
     "metadata": {},
     "output_type": "execute_result"
    }
   ],
   "source": [
    "title1 = doc1.find(\"h1\").text[1:10]\n",
    "title1"
   ]
  },
  {
   "cell_type": "code",
   "execution_count": 6,
   "id": "35c1c910",
   "metadata": {
    "scrolled": true
   },
   "outputs": [
    {
     "data": {
      "text/plain": [
       "['Let me know',\n",
       " 'Do I still got time to grow?',\n",
       " \"Things ain't always set in stone\",\n",
       " 'That be known let me know',\n",
       " 'Seems like street lights, glowing, happen to be',\n",
       " 'Just like moments passing in front of me',\n",
       " 'So I hopped in the cab and I paid my fare',\n",
       " \"See I know my destination, I'm just not there\",\n",
       " 'All the street lights, glowing, happen to be',\n",
       " 'Just like moments passing in front of me',\n",
       " 'So I hopped in the cab and I paid my fare',\n",
       " \"See I know my destination, I'm just not there\",\n",
       " 'In these streets',\n",
       " 'In these streets',\n",
       " \"I'm just not there in these streets\",\n",
       " \"I'm just not there\",\n",
       " \"Life just ain't fair\",\n",
       " 'Seems like street lights, glowing, happen to be',\n",
       " 'Just like moments passing in front of me',\n",
       " 'So I hopped in the cab and I paid my fare',\n",
       " \"See I know my destination, but I'm just not there\",\n",
       " 'All the street lights, glowing, happen to be',\n",
       " 'Just like moments passing in front of me',\n",
       " 'So I hopped in the cab and I paid my fare',\n",
       " \"See I know my destination, I'm just not there\",\n",
       " 'In these streets',\n",
       " 'In these streets',\n",
       " \"I'm just not there in these streets\",\n",
       " \"I'm just not there\",\n",
       " \"Life just ain't fair\"]"
      ]
     },
     "execution_count": 6,
     "metadata": {},
     "output_type": "execute_result"
    }
   ],
   "source": [
    "ly1 = doc1.find(\"div\", attrs={\"class\":\"col-xs-12 col-lg-8 text-center\"}).text.strip().split('\\n')\n",
    "while '' in ly1:\n",
    "    ly1.remove('')\n",
    "ly1 = ly1[4:-14]\n",
    "ly1"
   ]
  },
  {
   "cell_type": "code",
   "execution_count": 7,
   "id": "bd562c04",
   "metadata": {},
   "outputs": [
    {
     "data": {
      "text/plain": [
       "\"Let me knowDo I still got time to grow?Things ain't always set in stoneThat be known let me knowSeems like street lights, glowing, happen to beJust like moments passing in front of meSo I hopped in the cab and I paid my fareSee I know my destination, I'm just not thereAll the street lights, glowing, happen to beJust like moments passing in front of meSo I hopped in the cab and I paid my fareSee I know my destination, I'm just not thereIn these streetsIn these streetsI'm just not there in these streetsI'm just not thereLife just ain't fairSeems like street lights, glowing, happen to beJust like moments passing in front of meSo I hopped in the cab and I paid my fareSee I know my destination, but I'm just not thereAll the street lights, glowing, happen to beJust like moments passing in front of meSo I hopped in the cab and I paid my fareSee I know my destination, I'm just not thereIn these streetsIn these streetsI'm just not there in these streetsI'm just not thereLife just ain't fair\""
      ]
     },
     "execution_count": 7,
     "metadata": {},
     "output_type": "execute_result"
    }
   ],
   "source": [
    "ly1 = ''.join(ly1)\n",
    "ly1"
   ]
  },
  {
   "cell_type": "code",
   "execution_count": 8,
   "id": "97c4df3a",
   "metadata": {},
   "outputs": [],
   "source": [
    "response = requests.get(\"https://www.azlyrics.com/lyrics/danielcaesar/wefindlove.html\")\n",
    "html_string = response.text\n",
    "doc2 = BeautifulSoup(html_string, \"html.parser\")"
   ]
  },
  {
   "cell_type": "code",
   "execution_count": 9,
   "id": "5da93a3f",
   "metadata": {
    "scrolled": false
   },
   "outputs": [
    {
     "data": {
      "text/plain": [
       "[\"You don't love me anymore\",\n",
       " \"Let's see how you like this song\",\n",
       " 'I see you walking out that door',\n",
       " 'Wonder why it took you so long',\n",
       " '',\n",
       " 'Ever since the day that I met you',\n",
       " 'I knew you were the girl of my dreams',\n",
       " 'But we could never be',\n",
       " '',\n",
       " \"You don't love me anymore\",\n",
       " \"Let's see how you like this song\",\n",
       " '',\n",
       " 'We find love, we get up',\n",
       " 'And we fall down, we give up',\n",
       " 'We find love, we get up',\n",
       " 'And we fall down, we give up',\n",
       " '',\n",
       " \"You don't love me anymore\",\n",
       " \"Let's see how you like this song\",\n",
       " 'You need someone you adore',\n",
       " 'Find a place where you might belong',\n",
       " '',\n",
       " 'Ever since the day that I met you',\n",
       " \"My world's been spinning out of control\",\n",
       " 'I just need you to hold',\n",
       " '',\n",
       " \"We knew we'd come around\",\n",
       " 'This thing called love comes crashing down now',\n",
       " 'Pieces all on the ground',\n",
       " 'What once was lost cannot be found out',\n",
       " \"We knew we'd come around\",\n",
       " 'This thing called love comes crashing down now',\n",
       " 'Pieces all on the ground',\n",
       " 'What once was lost cannot be found out',\n",
       " \"We knew we'd come around\",\n",
       " 'This thing called love comes crashing down now',\n",
       " 'Pieces all on the ground',\n",
       " 'What once was lost cannot be found out',\n",
       " '']"
      ]
     },
     "execution_count": 9,
     "metadata": {},
     "output_type": "execute_result"
    }
   ],
   "source": [
    "ly2 = doc2.find(\"div\", attrs={\"class\":\"col-xs-12 col-lg-8 text-center\"}).text.strip().split('\\n')\n",
    "ly2 = ly2[11:50]\n",
    "ly2"
   ]
  },
  {
   "cell_type": "code",
   "execution_count": 10,
   "id": "5d855a41",
   "metadata": {},
   "outputs": [
    {
     "data": {
      "text/plain": [
       "\"You don't love me anymoreLet's see how you like this songI see you walking out that doorWonder why it took you so longEver since the day that I met youI knew you were the girl of my dreamsBut we could never beYou don't love me anymoreLet's see how you like this songWe find love, we get upAnd we fall down, we give upWe find love, we get upAnd we fall down, we give upYou don't love me anymoreLet's see how you like this songYou need someone you adoreFind a place where you might belongEver since the day that I met youMy world's been spinning out of controlI just need you to holdWe knew we'd come aroundThis thing called love comes crashing down nowPieces all on the groundWhat once was lost cannot be found outWe knew we'd come aroundThis thing called love comes crashing down nowPieces all on the groundWhat once was lost cannot be found outWe knew we'd come aroundThis thing called love comes crashing down nowPieces all on the groundWhat once was lost cannot be found out\""
      ]
     },
     "execution_count": 10,
     "metadata": {},
     "output_type": "execute_result"
    }
   ],
   "source": [
    "ly2 = ''.join(ly2)\n",
    "ly2"
   ]
  },
  {
   "cell_type": "code",
   "execution_count": 11,
   "id": "82dd1f9a",
   "metadata": {},
   "outputs": [],
   "source": [
    "response = requests.get(\"https://www.azlyrics.com/lyrics/danielcaesar/getyou.html\")\n",
    "html_string = response.text\n",
    "doc3 = BeautifulSoup(html_string, \"html.parser\")\n",
    "ly3 = doc3.find(\"div\", attrs={\"class\":\"col-xs-12 col-lg-8 text-center\"}).text.strip().split('\\n')"
   ]
  },
  {
   "cell_type": "code",
   "execution_count": 12,
   "id": "b18e697d",
   "metadata": {},
   "outputs": [
    {
     "data": {
      "text/plain": [
       "\"[Daniel Caesar:]Through drought and famine, natural disastersMy baby has been around for meKingdoms have fallen, angels be callingNone of that could ever make me leaveEvery time I look into your eyes I see itYou're all I needEvery time I get a bit inside I feel itOooooooh, who could've thought I'd get youOooooooh, who could've thought I'd get youAnd when we're making loveYour cries they can be heard from far and wideIt's only the two of usEverything I need's between those thighsEvery time I look into your eyes I see itYou're all I needEvery time I get a bit inside I feel itOooooooh, who could've thought I'd get youOh yeahOh yeah babeOooooooh, who could've thought I'd get you[Kali Uchis:]And I'll take some timeJust to be thankfulThat I had days full of you, youBefore it winds down intoThe memories, it's all just memories[Daniel Caesar:](If you've got someone you like...)Don't you love when I come around(...feel something that's right somebody just tell somebody)Build you up then I take you down(If you've got someone you like...)Don't you love when I come around(...feel something that's right somebody just tell somebody)Build you up then I take...[Daniel Caesar:]Oooooooh, who could've thought I'd get youOooooooh, who could've thought I'd get you[Kali Uchis:]This feels like summerBoy you make me feel so aliveJust be my loverBoy you'll lead me to paradise\""
      ]
     },
     "execution_count": 12,
     "metadata": {},
     "output_type": "execute_result"
    }
   ],
   "source": [
    "ly3 = ly3[12:63]\n",
    "ly3 = ''.join(ly3)\n",
    "ly3"
   ]
  },
  {
   "cell_type": "code",
   "execution_count": 15,
   "id": "802475db",
   "metadata": {},
   "outputs": [],
   "source": [
    "data = [['Daniel Caesar',title1,ly1],['Daniel Caesar','We find love',ly2],['Daniel Caesar','Get You',ly3]]\n",
    "pd.set_option('max_colwidth',5000)\n",
    "\n",
    "df = pd.DataFrame(data,columns= ['Artist','Title','Lyrics'],dtype = str)"
   ]
  },
  {
   "cell_type": "code",
   "execution_count": 14,
   "id": "a60a73b0",
   "metadata": {},
   "outputs": [
    {
     "data": {
      "text/html": [
       "<div>\n",
       "<style scoped>\n",
       "    .dataframe tbody tr th:only-of-type {\n",
       "        vertical-align: middle;\n",
       "    }\n",
       "\n",
       "    .dataframe tbody tr th {\n",
       "        vertical-align: top;\n",
       "    }\n",
       "\n",
       "    .dataframe thead th {\n",
       "        text-align: right;\n",
       "    }\n",
       "</style>\n",
       "<table border=\"1\" class=\"dataframe\">\n",
       "  <thead>\n",
       "    <tr style=\"text-align: right;\">\n",
       "      <th></th>\n",
       "      <th>Artist</th>\n",
       "      <th>Title</th>\n",
       "      <th>Lyrics</th>\n",
       "    </tr>\n",
       "  </thead>\n",
       "  <tbody>\n",
       "    <tr>\n",
       "      <th>0</th>\n",
       "      <td>Daniel Caesar</td>\n",
       "      <td>Streetcar</td>\n",
       "      <td>Let me knowDo I still got time to grow?Things ain't always set in stoneThat be known let me knowSeems like street lights, glowing, happen to beJust like moments passing in front of meSo I hopped in the cab and I paid my fareSee I know my destination, I'm just not thereAll the street lights, glowing, happen to beJust like moments passing in front of meSo I hopped in the cab and I paid my fareSee I know my destination, I'm just not thereIn these streetsIn these streetsI'm just not there in these streetsI'm just not thereLife just ain't fairSeems like street lights, glowing, happen to beJust like moments passing in front of meSo I hopped in the cab and I paid my fareSee I know my destination, but I'm just not thereAll the street lights, glowing, happen to beJust like moments passing in front of meSo I hopped in the cab and I paid my fareSee I know my destination, I'm just not thereIn these streetsIn these streetsI'm just not there in these streetsI'm just not thereLife just ain't fair</td>\n",
       "    </tr>\n",
       "    <tr>\n",
       "      <th>1</th>\n",
       "      <td>Daniel Caesar</td>\n",
       "      <td>We find love</td>\n",
       "      <td>You don't love me anymoreLet's see how you like this songI see you walking out that doorWonder why it took you so longEver since the day that I met youI knew you were the girl of my dreamsBut we could never beYou don't love me anymoreLet's see how you like this songWe find love, we get upAnd we fall down, we give upWe find love, we get upAnd we fall down, we give upYou don't love me anymoreLet's see how you like this songYou need someone you adoreFind a place where you might belongEver since the day that I met youMy world's been spinning out of controlI just need you to holdWe knew we'd come aroundThis thing called love comes crashing down nowPieces all on the groundWhat once was lost cannot be found outWe knew we'd come aroundThis thing called love comes crashing down nowPieces all on the groundWhat once was lost cannot be found outWe knew we'd come aroundThis thing called love comes crashing down nowPieces all on the groundWhat once was lost cannot be found out</td>\n",
       "    </tr>\n",
       "    <tr>\n",
       "      <th>2</th>\n",
       "      <td>Daniel Caesar</td>\n",
       "      <td>Get You</td>\n",
       "      <td>[Daniel Caesar:]Through drought and famine, natural disastersMy baby has been around for meKingdoms have fallen, angels be callingNone of that could ever make me leaveEvery time I look into your eyes I see itYou're all I needEvery time I get a bit inside I feel itOooooooh, who could've thought I'd get youOooooooh, who could've thought I'd get youAnd when we're making loveYour cries they can be heard from far and wideIt's only the two of usEverything I need's between those thighsEvery time I look into your eyes I see itYou're all I needEvery time I get a bit inside I feel itOooooooh, who could've thought I'd get youOh yeahOh yeah babeOooooooh, who could've thought I'd get you[Kali Uchis:]And I'll take some timeJust to be thankfulThat I had days full of you, youBefore it winds down intoThe memories, it's all just memories[Daniel Caesar:](If you've got someone you like...)Don't you love when I come around(...feel something that's right somebody just tell somebody)Build you up then I take you down(If you've got someone you like...)Don't you love when I come around(...feel something that's right somebody just tell somebody)Build you up then I take...[Daniel Caesar:]Oooooooh, who could've thought I'd get youOooooooh, who could've thought I'd get you[Kali Uchis:]This feels like summerBoy you make me feel so aliveJust be my loverBoy you'll lead me to paradise</td>\n",
       "    </tr>\n",
       "  </tbody>\n",
       "</table>\n",
       "</div>"
      ],
      "text/plain": [
       "          Artist         Title  \\\n",
       "0  Daniel Caesar     Streetcar   \n",
       "1  Daniel Caesar  We find love   \n",
       "2  Daniel Caesar       Get You   \n",
       "\n",
       "                                                                                                                                                                                                                                                                                                                                                                                                                                                                                                                                                                                                                                                                                                                                                                                                                                                                                                                                                                                                                                                                                                                                                                                                                                                                                                                                                                                                                          Lyrics  \n",
       "0                                                                                                                                                                                                                                                                                                                                                                                           Let me knowDo I still got time to grow?Things ain't always set in stoneThat be known let me knowSeems like street lights, glowing, happen to beJust like moments passing in front of meSo I hopped in the cab and I paid my fareSee I know my destination, I'm just not thereAll the street lights, glowing, happen to beJust like moments passing in front of meSo I hopped in the cab and I paid my fareSee I know my destination, I'm just not thereIn these streetsIn these streetsI'm just not there in these streetsI'm just not thereLife just ain't fairSeems like street lights, glowing, happen to beJust like moments passing in front of meSo I hopped in the cab and I paid my fareSee I know my destination, but I'm just not thereAll the street lights, glowing, happen to beJust like moments passing in front of meSo I hopped in the cab and I paid my fareSee I know my destination, I'm just not thereIn these streetsIn these streetsI'm just not there in these streetsI'm just not thereLife just ain't fair  \n",
       "1                                                                                                                                                                                                                                                                                                                                                                                                              You don't love me anymoreLet's see how you like this songI see you walking out that doorWonder why it took you so longEver since the day that I met youI knew you were the girl of my dreamsBut we could never beYou don't love me anymoreLet's see how you like this songWe find love, we get upAnd we fall down, we give upWe find love, we get upAnd we fall down, we give upYou don't love me anymoreLet's see how you like this songYou need someone you adoreFind a place where you might belongEver since the day that I met youMy world's been spinning out of controlI just need you to holdWe knew we'd come aroundThis thing called love comes crashing down nowPieces all on the groundWhat once was lost cannot be found outWe knew we'd come aroundThis thing called love comes crashing down nowPieces all on the groundWhat once was lost cannot be found outWe knew we'd come aroundThis thing called love comes crashing down nowPieces all on the groundWhat once was lost cannot be found out  \n",
       "2  [Daniel Caesar:]Through drought and famine, natural disastersMy baby has been around for meKingdoms have fallen, angels be callingNone of that could ever make me leaveEvery time I look into your eyes I see itYou're all I needEvery time I get a bit inside I feel itOooooooh, who could've thought I'd get youOooooooh, who could've thought I'd get youAnd when we're making loveYour cries they can be heard from far and wideIt's only the two of usEverything I need's between those thighsEvery time I look into your eyes I see itYou're all I needEvery time I get a bit inside I feel itOooooooh, who could've thought I'd get youOh yeahOh yeah babeOooooooh, who could've thought I'd get you[Kali Uchis:]And I'll take some timeJust to be thankfulThat I had days full of you, youBefore it winds down intoThe memories, it's all just memories[Daniel Caesar:](If you've got someone you like...)Don't you love when I come around(...feel something that's right somebody just tell somebody)Build you up then I take you down(If you've got someone you like...)Don't you love when I come around(...feel something that's right somebody just tell somebody)Build you up then I take...[Daniel Caesar:]Oooooooh, who could've thought I'd get youOooooooh, who could've thought I'd get you[Kali Uchis:]This feels like summerBoy you make me feel so aliveJust be my loverBoy you'll lead me to paradise  "
      ]
     },
     "execution_count": 14,
     "metadata": {},
     "output_type": "execute_result"
    }
   ],
   "source": [
    "df"
   ]
  }
 ],
 "metadata": {
  "kernelspec": {
   "display_name": "Python 3 (ipykernel)",
   "language": "python",
   "name": "python3"
  },
  "language_info": {
   "codemirror_mode": {
    "name": "ipython",
    "version": 3
   },
   "file_extension": ".py",
   "mimetype": "text/x-python",
   "name": "python",
   "nbconvert_exporter": "python",
   "pygments_lexer": "ipython3",
   "version": "3.9.12"
  }
 },
 "nbformat": 4,
 "nbformat_minor": 5
}
